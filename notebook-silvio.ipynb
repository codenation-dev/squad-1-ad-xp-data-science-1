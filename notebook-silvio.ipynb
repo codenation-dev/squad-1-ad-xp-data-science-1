{
 "cells": [
  {
   "cell_type": "markdown",
   "metadata": {},
   "source": [
    "# Projeto Final - Codenation Data Science - JOINVILLE\n",
    "\n",
    "# SQUAD 1 - Objetivo\n",
    "\n",
    "O objetivo deste produto é fornecer um serviço automatizado que recomenda leads para um usuário dado sua atual lista de clientes (Portfólio).\n",
    "\n",
    "# Contextualização\n",
    "Algumas empresas gostariam de saber quem são as demais empresas em um determinado mercado (população) que tem maior probabilidade se tornarem seus próximos clientes. Ou seja, a solução deve encontrar no mercado quem são os leads mais aderentes dado as características dos clientes presentes no portfólio do usuário.\n",
    "\n",
    "Além disso, a solução deve ser agnóstica ao usuário. Qualquer usuário com uma lista de clientes que queira explorar esse mercado pode extrair valor do serviço.\n",
    "\n",
    "Para o desafio, deverão ser consideradas as seguintes bases:\n",
    "\n",
    "Mercado: Base com informações sobre as empresas do Mercado a ser considerado. Portfolio 1: Ids dos clientes da empresa 1 Portfolio 2: Ids dos clientes da empresa 2 Portfolio 3: Ids dos clientes da empresa 3\n",
    "\n",
    "Obs: todas as empresas(ids) dos portfolios estão contidos no Mercado(base de população).\n",
    "\n",
    "As bases de portfólio poderão ser utilizadas para testar a aderência da solução. Além disso, se a equipe desejar, poderá simular portfólios por meio de amostragens no mercado.\n",
    "\n",
    "Premissas:\n",
    "\n",
    "1. Não serão considerados os dados de \"coligados\"\n",
    "2. Não serão considerado o relacionamento entre filial/matriz, cada cliente será avaliado individualmente"
   ]
  },
  {
   "cell_type": "code",
   "execution_count": 1,
   "metadata": {},
   "outputs": [],
   "source": [
    "#Importando as bibliotecas\n",
    "import pandas as pd\n",
    "import statsmodels.api as sm\n",
    "import matplotlib.pyplot as plt\n",
    "import numpy as np\n",
    "import scipy.stats as sct\n",
    "import seaborn as sns\n",
    "import math\n",
    "from sklearn.cluster import KMeans\n"
   ]
  },
  {
   "cell_type": "code",
   "execution_count": 2,
   "metadata": {},
   "outputs": [],
   "source": [
    "from IPython.core.pylabtools import figsize\n",
    "\n",
    "figsize(12, 8)\n",
    "\n",
    "sns.set()"
   ]
  },
  {
   "cell_type": "markdown",
   "metadata": {},
   "source": [
    "## Importando os Arquivos"
   ]
  },
  {
   "cell_type": "code",
   "execution_count": 3,
   "metadata": {},
   "outputs": [
    {
     "data": {
      "text/plain": [
       "['vl_total_tancagem_grupo',\n",
       " 'de_faixa_faturamento_estimado_grupo',\n",
       " 'vl_faturamento_estimado_grupo_aux',\n",
       " 'qt_funcionarios_grupo']"
      ]
     },
     "execution_count": 3,
     "metadata": {},
     "output_type": "execute_result"
    }
   ],
   "source": [
    "#Importando o Dataframe de Mercado e eliminando os dados \n",
    "mercado_orig = pd.read_csv('estaticos_market.csv')\n",
    "mercado = mercado_orig.copy()\n",
    "\n",
    "mercado = mercado.drop(['Unnamed: 0'] , axis='columns')\n",
    "mercado = mercado.drop(['fl_antt'] , axis='columns')\n",
    "mercado = mercado.drop(['vl_total_tancagem'] , axis='columns')\n",
    "mercado = mercado.drop(['de_faixa_faturamento_estimado'] , axis='columns')\n",
    "mercado = mercado.drop(['vl_frota'] , axis='columns')\n",
    "\n",
    "# Não serão considerados os dados relacionados as contratações dos funcionarios no periodo - Apenas a quantidade atual de funcionários da empresa\n",
    "mercado = mercado.drop(['meses_ultima_contratacaco'] , axis='columns')\n",
    "mercado = mercado.drop(['qt_admitidos_12meses'] , axis='columns')\n",
    "mercado = mercado.drop(['qt_desligados_12meses'] , axis='columns')\n",
    "mercado = mercado.drop(['qt_desligados'] , axis='columns')\n",
    "mercado = mercado.drop(['qt_admitidos'] , axis='columns')\n",
    "mercado = mercado.drop(['qt_funcionarios_12meses'] , axis='columns')\n",
    "mercado = mercado.drop(['qt_funcionarios_24meses'] , axis='columns')\n",
    "mercado = mercado.drop(['tx_crescimento_12meses'] , axis='columns')\n",
    "mercado = mercado.drop(['tx_crescimento_24meses'] , axis='columns')\n",
    "mercado = mercado.drop(['tx_rotatividade'] , axis='columns')\n",
    "mercado = mercado.drop(['min_meses_servicos'] , axis='columns')\n",
    "mercado = mercado.drop(['min_meses_servicos_all'] , axis='columns')\n",
    "mercado = mercado.drop(['max_meses_servicos_all'] , axis='columns')\n",
    "mercado = mercado.drop(['grau_instrucao_macro_desconhecido'] , axis='columns')\n",
    "mercado = mercado.drop(['empsetorcensitariofaixarendapopulacao'] , axis='columns')\n",
    "mercado = mercado.drop(['nu_meses_rescencia'] , axis='columns')\n",
    "mercado = mercado.drop(['vl_potenc_cons_oleo_gas'] , axis='columns')\n",
    "mercado = mercado.drop(['qt_ex_funcionarios'] , axis='columns')\n",
    "mercado = mercado.drop(['percent_func_genero_masc'] , axis='columns')\n",
    "mercado = mercado.drop(['percent_func_genero_fem'] , axis='columns')\n",
    "mercado = mercado.drop(['fl_spa'] , axis='columns')\n",
    "mercado = mercado.drop(['dt_situacao'] , axis='columns')\n",
    "\n",
    "# Não serão considerados os valores relacionados as coligadas\n",
    "lista_remove = [x for x in mercado.columns if 'colig' in x ]\n",
    "mercado = mercado.drop(lista_remove , axis='columns')\n",
    "\n",
    "# Não serão considerados os dados relacionados aos sócios - Apenas a quantidade atual de sócios\n",
    "lista_remove = [x for x in mercado.columns if 'socio' in x ]\n",
    "lista_remove.remove('qt_socios')\n",
    "mercado = mercado.drop(lista_remove , axis='columns')\n",
    "\n",
    "# Não serão considerados os dados de Ramo, Segmento e Divisão - Consideraremos o dado de setor para agrupamento dos clientes\n",
    "mercado = mercado.drop(['de_ramo'] , axis='columns')\n",
    "mercado = mercado.drop(['nm_segmento'] , axis='columns')\n",
    "mercado = mercado.drop(['nm_divisao'] , axis='columns')\n",
    "mercado = mercado.drop(['de_natureza_juridica'] , axis='columns')\n",
    "\n",
    "# Não serão consideradas as idades dos funcionários para avaliação do cliente\n",
    "lista_remove = [x for x in mercado.columns if 'idade_de' in x ]\n",
    "mercado = mercado.drop(lista_remove, axis='columns')\n",
    "lista_remove = [x for x in mercado.columns if 'idade_ate' in x ]\n",
    "mercado = mercado.drop(lista_remove, axis='columns')\n",
    "lista_remove = [x for x in mercado.columns if 'idade_acima' in x ]\n",
    "mercado = mercado.drop(lista_remove, axis='columns')\n",
    "\n",
    "# Não serão consideradas as graus de instrução dos funcionários para avaliação do cliente\n",
    "lista_remove = [x for x in mercado.columns if 'grau_instrucao_macro' in x ]\n",
    "mercado = mercado.drop(lista_remove, axis='columns')\n",
    "\n",
    "# Não serão consideradas as meses de serviço dos funcionários para avaliação do cliente\n",
    "lista_remove = [x for x in mercado.columns if 'meses_servicos' in x ]\n",
    "mercado = mercado.drop(lista_remove, axis='columns')\n",
    "\n",
    "# Não serão considerados os dados de veículos\n",
    "lista_remove = [x for x in mercado.columns if 'veiculo' in x ]\n",
    "mercado = mercado.drop(lista_remove, axis='columns')\n",
    "\n",
    "# Não serão considerados os dados de e-mail e telefone\n",
    "mercado = mercado.drop(['fl_email'] , axis='columns')\n",
    "mercado = mercado.drop(['fl_telefone'] , axis='columns')\n",
    "mercado = mercado.drop(['de_indicador_telefone'] , axis='columns')\n",
    "\n",
    "# Não serão considerados os dados de impostos\n",
    "mercado = mercado.drop(['fl_passivel_iss'] , axis='columns')\n",
    "mercado = mercado.drop(['fl_st_especial'] , axis='columns')\n",
    "\n",
    "# Não serão considerados os dados de Matriz/Grupo\n",
    "lista_remove = [x for x in mercado.columns if 'matriz' in x ]\n",
    "mercado = mercado.drop(lista_remove, axis='columns')\n",
    "\n",
    "# Não serão considerados os dados de Saude\n",
    "lista_remove = [x for x in mercado.columns if 'saude' in x ]\n",
    "mercado = mercado.drop(lista_remove, axis='columns')\n",
    "\n",
    "# Não serão considerados os dados de Matriz/Grupo\n",
    "lista_remove = [x for x in mercado.columns if 'grupo' in x ]\n",
    "mercado = mercado.drop(lista_remove, axis='columns')\n",
    "lista_remove"
   ]
  },
  {
   "cell_type": "code",
   "execution_count": 4,
   "metadata": {},
   "outputs": [
    {
     "data": {
      "text/html": [
       "<div>\n",
       "<style scoped>\n",
       "    .dataframe tbody tr th:only-of-type {\n",
       "        vertical-align: middle;\n",
       "    }\n",
       "\n",
       "    .dataframe tbody tr th {\n",
       "        vertical-align: top;\n",
       "    }\n",
       "\n",
       "    .dataframe thead th {\n",
       "        text-align: right;\n",
       "    }\n",
       "</style>\n",
       "<table border=\"1\" class=\"dataframe\">\n",
       "  <thead>\n",
       "    <tr style=\"text-align: right;\">\n",
       "      <th></th>\n",
       "      <th>id</th>\n",
       "    </tr>\n",
       "  </thead>\n",
       "  <tbody>\n",
       "    <tr>\n",
       "      <th>0</th>\n",
       "      <td>dabe79bec87c88ae04e869bf6bd321ee5e1893cecf6625...</td>\n",
       "    </tr>\n",
       "    <tr>\n",
       "      <th>1</th>\n",
       "      <td>32e5f4e10932153a7ba869cb0386e7e02d49d2461046b8...</td>\n",
       "    </tr>\n",
       "    <tr>\n",
       "      <th>2</th>\n",
       "      <td>a95d6f30bba445bd3d6b0c5b36f865b38ec01d17336090...</td>\n",
       "    </tr>\n",
       "    <tr>\n",
       "      <th>3</th>\n",
       "      <td>6cb309685cea0b6d2988818792ec2e6fcb2bd02e0afa9e...</td>\n",
       "    </tr>\n",
       "    <tr>\n",
       "      <th>4</th>\n",
       "      <td>f72aa7fa6787b0a5a1c88885b6120850df8ee0f71adc25...</td>\n",
       "    </tr>\n",
       "  </tbody>\n",
       "</table>\n",
       "</div>"
      ],
      "text/plain": [
       "                                                  id\n",
       "0  dabe79bec87c88ae04e869bf6bd321ee5e1893cecf6625...\n",
       "1  32e5f4e10932153a7ba869cb0386e7e02d49d2461046b8...\n",
       "2  a95d6f30bba445bd3d6b0c5b36f865b38ec01d17336090...\n",
       "3  6cb309685cea0b6d2988818792ec2e6fcb2bd02e0afa9e...\n",
       "4  f72aa7fa6787b0a5a1c88885b6120850df8ee0f71adc25..."
      ]
     },
     "execution_count": 4,
     "metadata": {},
     "output_type": "execute_result"
    }
   ],
   "source": [
    "# Importando o Dataframe de Portfolio1\n",
    "portfolio1 = pd.read_csv('estaticos_portfolio1.csv')\n",
    "portfolio1 = portfolio1.drop(['Unnamed: 0'] , axis='columns')\n",
    "# Deixando somente o id no portfolio\n",
    "lista_port1 = list(portfolio1.columns)\n",
    "lista_port1.remove('id')\n",
    "portfolio1 = portfolio1.drop(lista_port1, axis='columns')\n",
    "portfolio1.head()"
   ]
  },
  {
   "cell_type": "code",
   "execution_count": 5,
   "metadata": {},
   "outputs": [
    {
     "data": {
      "text/html": [
       "<div>\n",
       "<style scoped>\n",
       "    .dataframe tbody tr th:only-of-type {\n",
       "        vertical-align: middle;\n",
       "    }\n",
       "\n",
       "    .dataframe tbody tr th {\n",
       "        vertical-align: top;\n",
       "    }\n",
       "\n",
       "    .dataframe thead th {\n",
       "        text-align: right;\n",
       "    }\n",
       "</style>\n",
       "<table border=\"1\" class=\"dataframe\">\n",
       "  <thead>\n",
       "    <tr style=\"text-align: right;\">\n",
       "      <th></th>\n",
       "      <th>id</th>\n",
       "    </tr>\n",
       "  </thead>\n",
       "  <tbody>\n",
       "    <tr>\n",
       "      <th>0</th>\n",
       "      <td>09e95c1a84049001d086470a8f320a19b076f955a89122...</td>\n",
       "    </tr>\n",
       "    <tr>\n",
       "      <th>1</th>\n",
       "      <td>dc9d155f5bcd3172031e2ec9431786e8871ff4b0ff4728...</td>\n",
       "    </tr>\n",
       "    <tr>\n",
       "      <th>2</th>\n",
       "      <td>16843c9ffb920170477118933798510d8d5f00f5c56c12...</td>\n",
       "    </tr>\n",
       "    <tr>\n",
       "      <th>3</th>\n",
       "      <td>ff045934d90aab184dd15e66daf3b3c97193bda5449298...</td>\n",
       "    </tr>\n",
       "    <tr>\n",
       "      <th>4</th>\n",
       "      <td>a0ce528caab2c62497a548d0ebd9e935143ef81ed7dbf0...</td>\n",
       "    </tr>\n",
       "  </tbody>\n",
       "</table>\n",
       "</div>"
      ],
      "text/plain": [
       "                                                  id\n",
       "0  09e95c1a84049001d086470a8f320a19b076f955a89122...\n",
       "1  dc9d155f5bcd3172031e2ec9431786e8871ff4b0ff4728...\n",
       "2  16843c9ffb920170477118933798510d8d5f00f5c56c12...\n",
       "3  ff045934d90aab184dd15e66daf3b3c97193bda5449298...\n",
       "4  a0ce528caab2c62497a548d0ebd9e935143ef81ed7dbf0..."
      ]
     },
     "execution_count": 5,
     "metadata": {},
     "output_type": "execute_result"
    }
   ],
   "source": [
    "# Importando o Dataframe de Portfolio2\n",
    "portfolio2 = pd.read_csv('estaticos_portfolio2.csv')\n",
    "portfolio2 = portfolio2.drop(['Unnamed: 0'] , axis='columns')\n",
    "#portfolio2 = pd.merge(portfolio2, mercado, on='id', how='inner')\n",
    "portfolio2.head()"
   ]
  },
  {
   "cell_type": "code",
   "execution_count": 6,
   "metadata": {},
   "outputs": [
    {
     "data": {
      "text/html": [
       "<div>\n",
       "<style scoped>\n",
       "    .dataframe tbody tr th:only-of-type {\n",
       "        vertical-align: middle;\n",
       "    }\n",
       "\n",
       "    .dataframe tbody tr th {\n",
       "        vertical-align: top;\n",
       "    }\n",
       "\n",
       "    .dataframe thead th {\n",
       "        text-align: right;\n",
       "    }\n",
       "</style>\n",
       "<table border=\"1\" class=\"dataframe\">\n",
       "  <thead>\n",
       "    <tr style=\"text-align: right;\">\n",
       "      <th></th>\n",
       "      <th>id</th>\n",
       "    </tr>\n",
       "  </thead>\n",
       "  <tbody>\n",
       "    <tr>\n",
       "      <th>0</th>\n",
       "      <td>bb61c09449a1c1f8b78955d8b7a7f73599e78358993fe2...</td>\n",
       "    </tr>\n",
       "    <tr>\n",
       "      <th>1</th>\n",
       "      <td>16843c9ffb920170477118933798510d8d5f00f5c56c12...</td>\n",
       "    </tr>\n",
       "    <tr>\n",
       "      <th>2</th>\n",
       "      <td>1b8d092daff12bed8b3c2ab93bf5df2921865a68aca185...</td>\n",
       "    </tr>\n",
       "    <tr>\n",
       "      <th>3</th>\n",
       "      <td>3aafa3a1f12f483740a52956af100223333d0e3c79bf2c...</td>\n",
       "    </tr>\n",
       "    <tr>\n",
       "      <th>4</th>\n",
       "      <td>c60431fbca90067f105570e1e8a684bcd7048205bbf6c4...</td>\n",
       "    </tr>\n",
       "  </tbody>\n",
       "</table>\n",
       "</div>"
      ],
      "text/plain": [
       "                                                  id\n",
       "0  bb61c09449a1c1f8b78955d8b7a7f73599e78358993fe2...\n",
       "1  16843c9ffb920170477118933798510d8d5f00f5c56c12...\n",
       "2  1b8d092daff12bed8b3c2ab93bf5df2921865a68aca185...\n",
       "3  3aafa3a1f12f483740a52956af100223333d0e3c79bf2c...\n",
       "4  c60431fbca90067f105570e1e8a684bcd7048205bbf6c4..."
      ]
     },
     "execution_count": 6,
     "metadata": {},
     "output_type": "execute_result"
    }
   ],
   "source": [
    "# Importando o Dataframe de Portfolio3\n",
    "portfolio3 = pd.read_csv('estaticos_portfolio3.csv')\n",
    "portfolio3 = portfolio3.drop(['Unnamed: 0'] , axis='columns')\n",
    "#portfolio3 = pd.merge(portfolio3, mercado, on='id', how='inner')\n",
    "portfolio3.head()"
   ]
  },
  {
   "cell_type": "markdown",
   "metadata": {},
   "source": [
    "## Iniciando as Análises dos Arquivos\n",
    "\n",
    "Nesse momento avaliaremos os dados do dataframe"
   ]
  },
  {
   "cell_type": "code",
   "execution_count": 7,
   "metadata": {},
   "outputs": [
    {
     "data": {
      "text/html": [
       "<div>\n",
       "<style scoped>\n",
       "    .dataframe tbody tr th:only-of-type {\n",
       "        vertical-align: middle;\n",
       "    }\n",
       "\n",
       "    .dataframe tbody tr th {\n",
       "        vertical-align: top;\n",
       "    }\n",
       "\n",
       "    .dataframe thead th {\n",
       "        text-align: right;\n",
       "    }\n",
       "</style>\n",
       "<table border=\"1\" class=\"dataframe\">\n",
       "  <thead>\n",
       "    <tr style=\"text-align: right;\">\n",
       "      <th></th>\n",
       "      <th>id</th>\n",
       "      <th>sg_uf</th>\n",
       "      <th>natureza_juridica_macro</th>\n",
       "      <th>setor</th>\n",
       "      <th>idade_empresa_anos</th>\n",
       "      <th>idade_emp_cat</th>\n",
       "      <th>fl_me</th>\n",
       "      <th>fl_sa</th>\n",
       "      <th>fl_epp</th>\n",
       "      <th>fl_mei</th>\n",
       "      <th>...</th>\n",
       "      <th>fl_optante_simei</th>\n",
       "      <th>de_nivel_atividade</th>\n",
       "      <th>fl_simples_irregular</th>\n",
       "      <th>nm_meso_regiao</th>\n",
       "      <th>nm_micro_regiao</th>\n",
       "      <th>qt_socios</th>\n",
       "      <th>vl_faturamento_estimado_aux</th>\n",
       "      <th>total</th>\n",
       "      <th>qt_funcionarios</th>\n",
       "      <th>qt_filiais</th>\n",
       "    </tr>\n",
       "  </thead>\n",
       "  <tbody>\n",
       "    <tr>\n",
       "      <th>0</th>\n",
       "      <td>a6984c3ae395090e3bee8ad63c3758b110de096d5d8195...</td>\n",
       "      <td>RN</td>\n",
       "      <td>ENTIDADES EMPRESARIAIS</td>\n",
       "      <td>CONSTRUÇÃO CIVIL</td>\n",
       "      <td>14.457534</td>\n",
       "      <td>10 a 15</td>\n",
       "      <td>False</td>\n",
       "      <td>False</td>\n",
       "      <td>False</td>\n",
       "      <td>False</td>\n",
       "      <td>...</td>\n",
       "      <td>False</td>\n",
       "      <td>ALTA</td>\n",
       "      <td>False</td>\n",
       "      <td>LESTE POTIGUAR</td>\n",
       "      <td>NATAL</td>\n",
       "      <td>2.0</td>\n",
       "      <td>3132172.8</td>\n",
       "      <td>26.0</td>\n",
       "      <td>26.0</td>\n",
       "      <td>0</td>\n",
       "    </tr>\n",
       "    <tr>\n",
       "      <th>1</th>\n",
       "      <td>6178f41ade1365e44bc2c46654c2c8c0eaae27dcb476c4...</td>\n",
       "      <td>PI</td>\n",
       "      <td>OUTROS</td>\n",
       "      <td>SERVIÇO</td>\n",
       "      <td>1.463014</td>\n",
       "      <td>1 a 5</td>\n",
       "      <td>False</td>\n",
       "      <td>False</td>\n",
       "      <td>False</td>\n",
       "      <td>True</td>\n",
       "      <td>...</td>\n",
       "      <td>NaN</td>\n",
       "      <td>BAIXA</td>\n",
       "      <td>False</td>\n",
       "      <td>CENTRO NORTE PIAUIENSE</td>\n",
       "      <td>TERESINA</td>\n",
       "      <td>1.0</td>\n",
       "      <td>210000.0</td>\n",
       "      <td>NaN</td>\n",
       "      <td>NaN</td>\n",
       "      <td>0</td>\n",
       "    </tr>\n",
       "    <tr>\n",
       "      <th>2</th>\n",
       "      <td>4a7e5069a397f12fdd7fd57111d6dc5d3ba558958efc02...</td>\n",
       "      <td>AM</td>\n",
       "      <td>OUTROS</td>\n",
       "      <td>SERVIÇO</td>\n",
       "      <td>7.093151</td>\n",
       "      <td>5 a 10</td>\n",
       "      <td>False</td>\n",
       "      <td>False</td>\n",
       "      <td>False</td>\n",
       "      <td>True</td>\n",
       "      <td>...</td>\n",
       "      <td>True</td>\n",
       "      <td>MEDIA</td>\n",
       "      <td>False</td>\n",
       "      <td>CENTRO AMAZONENSE</td>\n",
       "      <td>MANAUS</td>\n",
       "      <td>1.0</td>\n",
       "      <td>50000.0</td>\n",
       "      <td>NaN</td>\n",
       "      <td>NaN</td>\n",
       "      <td>0</td>\n",
       "    </tr>\n",
       "    <tr>\n",
       "      <th>3</th>\n",
       "      <td>3348900fe63216a439d2e5238c79ddd46ede454df7b9d8...</td>\n",
       "      <td>AM</td>\n",
       "      <td>OUTROS</td>\n",
       "      <td>SERVIÇO</td>\n",
       "      <td>6.512329</td>\n",
       "      <td>5 a 10</td>\n",
       "      <td>False</td>\n",
       "      <td>False</td>\n",
       "      <td>False</td>\n",
       "      <td>False</td>\n",
       "      <td>...</td>\n",
       "      <td>False</td>\n",
       "      <td>MEDIA</td>\n",
       "      <td>False</td>\n",
       "      <td>CENTRO AMAZONENSE</td>\n",
       "      <td>MANAUS</td>\n",
       "      <td>1.0</td>\n",
       "      <td>210000.0</td>\n",
       "      <td>NaN</td>\n",
       "      <td>NaN</td>\n",
       "      <td>0</td>\n",
       "    </tr>\n",
       "    <tr>\n",
       "      <th>4</th>\n",
       "      <td>1f9bcabc9d3173c1fe769899e4fac14b053037b953a1e4...</td>\n",
       "      <td>RN</td>\n",
       "      <td>OUTROS</td>\n",
       "      <td>SERVIÇO</td>\n",
       "      <td>3.200000</td>\n",
       "      <td>1 a 5</td>\n",
       "      <td>False</td>\n",
       "      <td>False</td>\n",
       "      <td>False</td>\n",
       "      <td>False</td>\n",
       "      <td>...</td>\n",
       "      <td>False</td>\n",
       "      <td>ALTA</td>\n",
       "      <td>False</td>\n",
       "      <td>LESTE POTIGUAR</td>\n",
       "      <td>NATAL</td>\n",
       "      <td>1.0</td>\n",
       "      <td>210000.0</td>\n",
       "      <td>NaN</td>\n",
       "      <td>NaN</td>\n",
       "      <td>0</td>\n",
       "    </tr>\n",
       "  </tbody>\n",
       "</table>\n",
       "<p>5 rows × 24 columns</p>\n",
       "</div>"
      ],
      "text/plain": [
       "                                                  id sg_uf  \\\n",
       "0  a6984c3ae395090e3bee8ad63c3758b110de096d5d8195...    RN   \n",
       "1  6178f41ade1365e44bc2c46654c2c8c0eaae27dcb476c4...    PI   \n",
       "2  4a7e5069a397f12fdd7fd57111d6dc5d3ba558958efc02...    AM   \n",
       "3  3348900fe63216a439d2e5238c79ddd46ede454df7b9d8...    AM   \n",
       "4  1f9bcabc9d3173c1fe769899e4fac14b053037b953a1e4...    RN   \n",
       "\n",
       "  natureza_juridica_macro             setor  idade_empresa_anos idade_emp_cat  \\\n",
       "0  ENTIDADES EMPRESARIAIS  CONSTRUÇÃO CIVIL           14.457534       10 a 15   \n",
       "1                  OUTROS           SERVIÇO            1.463014         1 a 5   \n",
       "2                  OUTROS           SERVIÇO            7.093151        5 a 10   \n",
       "3                  OUTROS           SERVIÇO            6.512329        5 a 10   \n",
       "4                  OUTROS           SERVIÇO            3.200000         1 a 5   \n",
       "\n",
       "   fl_me  fl_sa  fl_epp  fl_mei  ...  fl_optante_simei de_nivel_atividade  \\\n",
       "0  False  False   False   False  ...             False               ALTA   \n",
       "1  False  False   False    True  ...               NaN              BAIXA   \n",
       "2  False  False   False    True  ...              True              MEDIA   \n",
       "3  False  False   False   False  ...             False              MEDIA   \n",
       "4  False  False   False   False  ...             False               ALTA   \n",
       "\n",
       "  fl_simples_irregular          nm_meso_regiao nm_micro_regiao qt_socios  \\\n",
       "0                False          LESTE POTIGUAR           NATAL       2.0   \n",
       "1                False  CENTRO NORTE PIAUIENSE        TERESINA       1.0   \n",
       "2                False       CENTRO AMAZONENSE          MANAUS       1.0   \n",
       "3                False       CENTRO AMAZONENSE          MANAUS       1.0   \n",
       "4                False          LESTE POTIGUAR           NATAL       1.0   \n",
       "\n",
       "  vl_faturamento_estimado_aux total qt_funcionarios  qt_filiais  \n",
       "0                   3132172.8  26.0            26.0           0  \n",
       "1                    210000.0   NaN             NaN           0  \n",
       "2                     50000.0   NaN             NaN           0  \n",
       "3                    210000.0   NaN             NaN           0  \n",
       "4                    210000.0   NaN             NaN           0  \n",
       "\n",
       "[5 rows x 24 columns]"
      ]
     },
     "execution_count": 7,
     "metadata": {},
     "output_type": "execute_result"
    }
   ],
   "source": [
    "# 5 Primeiras Linhas\n",
    "mercado.head()"
   ]
  },
  {
   "cell_type": "code",
   "execution_count": 8,
   "metadata": {},
   "outputs": [
    {
     "data": {
      "text/plain": [
       "(462298, 24)"
      ]
     },
     "execution_count": 8,
     "metadata": {},
     "output_type": "execute_result"
    }
   ],
   "source": [
    "#Verificando Quantidade de Colunas e Observações\n",
    "mercado.shape"
   ]
  },
  {
   "cell_type": "code",
   "execution_count": 9,
   "metadata": {},
   "outputs": [
    {
     "data": {
      "text/plain": [
       "id                                  0\n",
       "sg_uf                               0\n",
       "natureza_juridica_macro             0\n",
       "setor                            1927\n",
       "idade_empresa_anos                  0\n",
       "idade_emp_cat                       0\n",
       "fl_me                               0\n",
       "fl_sa                               0\n",
       "fl_epp                              0\n",
       "fl_mei                              0\n",
       "fl_ltda                             0\n",
       "fl_rm                               0\n",
       "fl_optante_simples              82713\n",
       "qt_art                         455708\n",
       "fl_optante_simei                82713\n",
       "de_nivel_atividade              11168\n",
       "fl_simples_irregular             1927\n",
       "nm_meso_regiao                  58698\n",
       "nm_micro_regiao                 58698\n",
       "qt_socios                      115091\n",
       "vl_faturamento_estimado_aux     27513\n",
       "total                          386356\n",
       "qt_funcionarios                358724\n",
       "qt_filiais                          0\n",
       "dtype: int64"
      ]
     },
     "execution_count": 9,
     "metadata": {},
     "output_type": "execute_result"
    }
   ],
   "source": [
    "#Verificando a quantidade valores nulos por coluna\n",
    "mercado.isnull().sum()"
   ]
  },
  {
   "cell_type": "code",
   "execution_count": 10,
   "metadata": {},
   "outputs": [
    {
     "data": {
      "text/plain": [
       "setor\n",
       "AGROPECUARIA          3247\n",
       "COMERCIO            211224\n",
       "CONSTRUÇÃO CIVIL     25363\n",
       "INDUSTRIA            30893\n",
       "SERVIÇO             189644\n",
       "Name: id, dtype: int64"
      ]
     },
     "execution_count": 10,
     "metadata": {},
     "output_type": "execute_result"
    }
   ],
   "source": [
    "#Avaliação do mercado que estão sem setor\n",
    "mercado.groupby('setor').id.count()"
   ]
  },
  {
   "cell_type": "code",
   "execution_count": 11,
   "metadata": {},
   "outputs": [],
   "source": [
    "## ONE HOT ENCODE: DE_NIVEL_ATIVIDADE, SETOR_UNIQUE (TROCAR NAN PARA OUTROS), NATUREZA_JURIDICA_MACRO, SG_UF (VERIFICAR NECESSIDADE)\n",
    "dfDummiesNivelAtividade = pd.get_dummies(mercado['de_nivel_atividade'],prefix='NIVEL_ATIVIDADE_OHE')"
   ]
  },
  {
   "cell_type": "code",
   "execution_count": 12,
   "metadata": {},
   "outputs": [],
   "source": [
    "## ONE HOT ENCODE: DE_NIVEL_ATIVIDADE, SETOR_UNIQUE (TROCAR NAN PARA OUTROS), NATUREZA_JURIDICA_MACRO, SG_UF (VERIFICAR NECESSIDADE)\n",
    "dfDummiesSetor = pd.get_dummies(mercado['setor'],prefix='setor_OHE')"
   ]
  },
  {
   "cell_type": "code",
   "execution_count": 13,
   "metadata": {},
   "outputs": [],
   "source": [
    "## ONE HOT ENCODE: DE_NIVEL_ATIVIDADE, SETOR_UNIQUE (TROCAR NAN PARA OUTROS), NATUREZA_JURIDICA_MACRO, SG_UF (VERIFICAR NECESSIDADE)\n",
    "dfDummiesNaturezaJuridica = pd.get_dummies(mercado['natureza_juridica_macro'],prefix='NATUREZA_JURIDICA_OHE')"
   ]
  },
  {
   "cell_type": "code",
   "execution_count": 14,
   "metadata": {},
   "outputs": [],
   "source": [
    "## ONE HOT ENCODE: DE_NIVEL_ATIVIDADE, SETOR_UNIQUE (TROCAR NAN PARA OUTROS), NATUREZA_JURIDICA_MACRO, SG_UF (VERIFICAR NECESSIDADE)\n",
    "dfDummiesUF = pd.get_dummies(mercado['sg_uf'],prefix='UF_OHE')"
   ]
  },
  {
   "cell_type": "code",
   "execution_count": 15,
   "metadata": {},
   "outputs": [],
   "source": [
    "#Atualizando DF\n",
    "mercado = pd.concat([mercado, dfDummiesNivelAtividade], axis=1)\n",
    "mercado = pd.concat([mercado, dfDummiesSetor], axis=1)\n",
    "mercado = pd.concat([mercado, dfDummiesNaturezaJuridica], axis=1)\n",
    "mercado = pd.concat([mercado, dfDummiesUF], axis=1)"
   ]
  },
  {
   "cell_type": "code",
   "execution_count": 16,
   "metadata": {},
   "outputs": [],
   "source": [
    "df_copy = mercado_orig.copy()\n",
    "df_copy = df_copy[df_copy.vl_faturamento_estimado_aux != 0]\n",
    "df_setor = pd.DataFrame(round(df_copy.groupby('setor').vl_faturamento_estimado_aux.mean(), 2)).reset_index()"
   ]
  },
  {
   "cell_type": "code",
   "execution_count": 17,
   "metadata": {},
   "outputs": [
    {
     "data": {
      "text/plain": [
       "setor\n",
       "AGROPECUARIA        1229622.3\n",
       "COMERCIO             445014.4\n",
       "CONSTRUÇÃO CIVIL     657964.5\n",
       "INDUSTRIA           1398885.6\n",
       "SERVIÇO             1127868.1\n",
       "Name: vl_faturamento_estimado_aux, dtype: float64"
      ]
     },
     "execution_count": 17,
     "metadata": {},
     "output_type": "execute_result"
    }
   ],
   "source": [
    "mercado_orig.groupby('setor').vl_faturamento_estimado_aux.mean().round(1)"
   ]
  },
  {
   "cell_type": "code",
   "execution_count": 18,
   "metadata": {},
   "outputs": [
    {
     "data": {
      "text/plain": [
       "(462298, 46)"
      ]
     },
     "execution_count": 18,
     "metadata": {},
     "output_type": "execute_result"
    }
   ],
   "source": [
    "mercado.shape"
   ]
  },
  {
   "cell_type": "code",
   "execution_count": 19,
   "metadata": {},
   "outputs": [],
   "source": [
    "def bla (row):\n",
    "    if float(row.vl_faturamento_estimado_aux) >= 0 or math.isnan(row.vl_faturamento_estimado_aux):\n",
    "        return row.vl_faturamento_estimado_aux \n",
    "    return fnas.get(row.setor)"
   ]
  },
  {
   "cell_type": "code",
   "execution_count": 20,
   "metadata": {},
   "outputs": [],
   "source": [
    "fnas = {\n",
    "        'AGROPECUARIA':  1229622.3,\n",
    "        'COMERCIO': 445014.4,\n",
    "        'CONSTRUÇÃO CIVIL': 657964.5,\n",
    "        'INDUSTRIA': 1398885.6,\n",
    "        'SERVIÇO': 1127868.1,\n",
    "    }\n",
    "\n",
    "mercado['vl_faturamento_estimado_aux'] = mercado.apply(bla, axis=1)\n",
    "\n",
    "\n",
    "\n",
    "# .apply(lambda x: fnas[1] if x.vl_faturamento_estimado_aux == None && x.setor == fnas[0])\n",
    "\n",
    "# # mercado.shape\n",
    "# for fna in fnas.items():\n",
    "# #     mercado.loc[mercado['vl_faturamento_estimado_aux'] == 0, 'rating'] = 0 \n",
    "# #     mercado['vl_faturamento_estimado_aux'] = np.where(mercado['setor'] == key && mercado['vl_faturamento_estimado_aux'], 1.0, 0.0)\n",
    "# #     mercado.vl_faturamento_estimado_aux.apply(lambda x: )\n",
    "#     mercado.vl_faturamento_estimado_aux = mercado[mercado.setor == fna[0]].vl_faturamento_estimado_aux.fillna(fna[1])"
   ]
  },
  {
   "cell_type": "code",
   "execution_count": 21,
   "metadata": {},
   "outputs": [
    {
     "data": {
      "text/plain": [
       "27513"
      ]
     },
     "execution_count": 21,
     "metadata": {},
     "output_type": "execute_result"
    }
   ],
   "source": [
    "mercado.vl_faturamento_estimado_aux.isnull().sum()"
   ]
  },
  {
   "cell_type": "code",
   "execution_count": 22,
   "metadata": {},
   "outputs": [
    {
     "data": {
      "text/plain": [
       "7        NaN\n",
       "32       NaN\n",
       "36       NaN\n",
       "76       NaN\n",
       "80       NaN\n",
       "102      NaN\n",
       "122      NaN\n",
       "163      NaN\n",
       "173      NaN\n",
       "194      NaN\n",
       "202      NaN\n",
       "224      NaN\n",
       "227      NaN\n",
       "238      NaN\n",
       "259      NaN\n",
       "273      NaN\n",
       "312      NaN\n",
       "336      NaN\n",
       "337      NaN\n",
       "364      NaN\n",
       "370      NaN\n",
       "376      NaN\n",
       "382      NaN\n",
       "385      NaN\n",
       "391      NaN\n",
       "406      NaN\n",
       "432      NaN\n",
       "499      NaN\n",
       "505      NaN\n",
       "521      NaN\n",
       "          ..\n",
       "461761   NaN\n",
       "461791   NaN\n",
       "461793   NaN\n",
       "461805   NaN\n",
       "461810   NaN\n",
       "461811   NaN\n",
       "461912   NaN\n",
       "461929   NaN\n",
       "461931   NaN\n",
       "461972   NaN\n",
       "461977   NaN\n",
       "461980   NaN\n",
       "461986   NaN\n",
       "462009   NaN\n",
       "462050   NaN\n",
       "462065   NaN\n",
       "462094   NaN\n",
       "462095   NaN\n",
       "462099   NaN\n",
       "462106   NaN\n",
       "462139   NaN\n",
       "462142   NaN\n",
       "462150   NaN\n",
       "462151   NaN\n",
       "462170   NaN\n",
       "462172   NaN\n",
       "462205   NaN\n",
       "462224   NaN\n",
       "462226   NaN\n",
       "462274   NaN\n",
       "Name: vl_faturamento_estimado_aux, Length: 27513, dtype: float64"
      ]
     },
     "execution_count": 22,
     "metadata": {},
     "output_type": "execute_result"
    }
   ],
   "source": [
    "mercado.vl_faturamento_estimado_aux[mercado.vl_faturamento_estimado_aux.isna()]"
   ]
  },
  {
   "cell_type": "code",
   "execution_count": 23,
   "metadata": {},
   "outputs": [],
   "source": [
    "mercado = mercado.drop(['de_nivel_atividade'] , axis='columns')\n",
    "# mercado = mercado.drop(['setor'] , axis='columns')\n",
    "mercado = mercado.drop(['natureza_juridica_macro'] , axis='columns')\n",
    "mercado = mercado.drop(['sg_uf'] , axis='columns')"
   ]
  },
  {
   "cell_type": "code",
   "execution_count": 24,
   "metadata": {},
   "outputs": [
    {
     "data": {
      "text/plain": [
       "6.0"
      ]
     },
     "execution_count": 24,
     "metadata": {},
     "output_type": "execute_result"
    }
   ],
   "source": [
    "#Verificando a quantidade valores nulos por coluna\n",
    "media_qt_art = round(mercado.qt_art.mean(),0)\n",
    "media_qt_art"
   ]
  },
  {
   "cell_type": "code",
   "execution_count": 25,
   "metadata": {},
   "outputs": [],
   "source": [
    "#Atualizando Medina nos valores null da QT_ART\n",
    "mercado.qt_art.fillna(media_qt_art, inplace=True)"
   ]
  },
  {
   "cell_type": "code",
   "execution_count": 26,
   "metadata": {},
   "outputs": [],
   "source": [
    "## TROCAR NAN FL_* PARA FALSE\n",
    "mercado.fl_optante_simei.fillna(False, inplace=True)\n",
    "mercado.fl_optante_simples.fillna(False, inplace=True)\n",
    "mercado.fl_simples_irregular.fillna(False, inplace=True)"
   ]
  },
  {
   "cell_type": "code",
   "execution_count": 27,
   "metadata": {},
   "outputs": [],
   "source": [
    "# ATUALIZANDO QUANTIDADE FUNCIONARIOS E SOCIOS\n",
    "mercado.qt_funcionarios.fillna(1, inplace=True)\n",
    "mercado.qt_socios.fillna(1, inplace=True)"
   ]
  },
  {
   "cell_type": "code",
   "execution_count": 28,
   "metadata": {},
   "outputs": [
    {
     "data": {
      "text/plain": [
       "id                                                           0\n",
       "setor                                                     1927\n",
       "idade_empresa_anos                                           0\n",
       "idade_emp_cat                                                0\n",
       "fl_me                                                        0\n",
       "fl_sa                                                        0\n",
       "fl_epp                                                       0\n",
       "fl_mei                                                       0\n",
       "fl_ltda                                                      0\n",
       "fl_rm                                                        0\n",
       "fl_optante_simples                                           0\n",
       "qt_art                                                       0\n",
       "fl_optante_simei                                             0\n",
       "fl_simples_irregular                                         0\n",
       "nm_meso_regiao                                               0\n",
       "nm_micro_regiao                                              0\n",
       "qt_socios                                                    0\n",
       "vl_faturamento_estimado_aux                              27513\n",
       "total                                                   386356\n",
       "qt_funcionarios                                              0\n",
       "qt_filiais                                                   0\n",
       "NIVEL_ATIVIDADE_OHE_ALTA                                     0\n",
       "NIVEL_ATIVIDADE_OHE_BAIXA                                    0\n",
       "NIVEL_ATIVIDADE_OHE_MEDIA                                    0\n",
       "NIVEL_ATIVIDADE_OHE_MUITO BAIXA                              0\n",
       "setor_OHE_AGROPECUARIA                                       0\n",
       "setor_OHE_COMERCIO                                           0\n",
       "setor_OHE_CONSTRUÇÃO CIVIL                                   0\n",
       "setor_OHE_INDUSTRIA                                          0\n",
       "setor_OHE_SERVIÇO                                            0\n",
       "NATUREZA_JURIDICA_OHE_ADMINISTRACAO PUBLICA                  0\n",
       "NATUREZA_JURIDICA_OHE_CARGO POLITICO                         0\n",
       "NATUREZA_JURIDICA_OHE_ENTIDADES EMPRESARIAIS                 0\n",
       "NATUREZA_JURIDICA_OHE_ENTIDADES SEM FINS LUCRATIVOS          0\n",
       "NATUREZA_JURIDICA_OHE_INSTITUICOES EXTRATERRITORIAIS         0\n",
       "NATUREZA_JURIDICA_OHE_OUTROS                                 0\n",
       "NATUREZA_JURIDICA_OHE_PESSOAS FISICAS                        0\n",
       "UF_OHE_AC                                                    0\n",
       "UF_OHE_AM                                                    0\n",
       "UF_OHE_MA                                                    0\n",
       "UF_OHE_PI                                                    0\n",
       "UF_OHE_RN                                                    0\n",
       "UF_OHE_RO                                                    0\n",
       "dtype: int64"
      ]
     },
     "execution_count": 28,
     "metadata": {},
     "output_type": "execute_result"
    }
   ],
   "source": [
    "mercado.nm_meso_regiao.fillna('OUTRA', inplace=True)\n",
    "mercado.nm_micro_regiao.fillna('OUTRA', inplace=True)\n",
    "mercado.isna().sum()"
   ]
  },
  {
   "cell_type": "code",
   "execution_count": 29,
   "metadata": {},
   "outputs": [],
   "source": [
    "## ONE HOT ENCODE: NM_MESO_REGIAO\n",
    "dfDummiesMesoRegiao = pd.get_dummies(mercado['nm_meso_regiao'],prefix='MESOREGIAO_OHE')\n",
    "dfDummiesMicroRegiao = pd.get_dummies(mercado['nm_micro_regiao'],prefix='MICROREGIAO_OHE')"
   ]
  },
  {
   "cell_type": "code",
   "execution_count": 30,
   "metadata": {},
   "outputs": [],
   "source": [
    "mercado = pd.concat([mercado, dfDummiesMesoRegiao], axis=1)\n",
    "mercado = pd.concat([mercado, dfDummiesMicroRegiao], axis=1)"
   ]
  },
  {
   "cell_type": "code",
   "execution_count": 31,
   "metadata": {},
   "outputs": [],
   "source": [
    "mercado = mercado.drop(['nm_meso_regiao'] , axis='columns')"
   ]
  },
  {
   "cell_type": "code",
   "execution_count": 32,
   "metadata": {},
   "outputs": [],
   "source": [
    "mercado = mercado.drop(['nm_micro_regiao'] , axis='columns')"
   ]
  },
  {
   "cell_type": "code",
   "execution_count": 33,
   "metadata": {},
   "outputs": [],
   "source": [
    "mercado = mercado.drop(['total'] , axis='columns')"
   ]
  },
  {
   "cell_type": "code",
   "execution_count": 34,
   "metadata": {},
   "outputs": [],
   "source": [
    "mercado.columns = mercado.columns.str.replace(\" \", \"_\")"
   ]
  },
  {
   "cell_type": "code",
   "execution_count": 35,
   "metadata": {},
   "outputs": [
    {
     "data": {
      "text/plain": [
       "7    NaN\n",
       "32   NaN\n",
       "36   NaN\n",
       "dtype: float64"
      ]
     },
     "execution_count": 35,
     "metadata": {},
     "output_type": "execute_result"
    }
   ],
   "source": [
    "mercado[mercado.vl_faturamento_estimado_aux.isna()].head(3).apply(bla, axis=1)"
   ]
  },
  {
   "cell_type": "code",
   "execution_count": 36,
   "metadata": {},
   "outputs": [],
   "source": [
    "mercado = mercado.drop(['setor'] , axis='columns')"
   ]
  },
  {
   "cell_type": "code",
   "execution_count": 37,
   "metadata": {},
   "outputs": [],
   "source": [
    "mercado = mercado.drop(['idade_emp_cat'] , axis='columns')"
   ]
  },
  {
   "cell_type": "code",
   "execution_count": 41,
   "metadata": {},
   "outputs": [],
   "source": [
    "mercado = mercado.drop(['fl_rm'] , axis='columns')"
   ]
  },
  {
   "cell_type": "code",
   "execution_count": 46,
   "metadata": {},
   "outputs": [],
   "source": [
    "mercado = mercado.drop(['vl_faturamento_estimado_aux'] , axis='columns')"
   ]
  },
  {
   "cell_type": "code",
   "execution_count": 47,
   "metadata": {},
   "outputs": [
    {
     "ename": "KeyError",
     "evalue": "'id'",
     "output_type": "error",
     "traceback": [
      "\u001b[1;31m---------------------------------------------------------------------------\u001b[0m",
      "\u001b[1;31mKeyError\u001b[0m                                  Traceback (most recent call last)",
      "\u001b[1;32mC:\\ProgramData\\Anaconda3\\lib\\site-packages\\pandas\\core\\indexes\\base.py\u001b[0m in \u001b[0;36mget_loc\u001b[1;34m(self, key, method, tolerance)\u001b[0m\n\u001b[0;32m   2656\u001b[0m             \u001b[1;32mtry\u001b[0m\u001b[1;33m:\u001b[0m\u001b[1;33m\u001b[0m\u001b[1;33m\u001b[0m\u001b[0m\n\u001b[1;32m-> 2657\u001b[1;33m                 \u001b[1;32mreturn\u001b[0m \u001b[0mself\u001b[0m\u001b[1;33m.\u001b[0m\u001b[0m_engine\u001b[0m\u001b[1;33m.\u001b[0m\u001b[0mget_loc\u001b[0m\u001b[1;33m(\u001b[0m\u001b[0mkey\u001b[0m\u001b[1;33m)\u001b[0m\u001b[1;33m\u001b[0m\u001b[1;33m\u001b[0m\u001b[0m\n\u001b[0m\u001b[0;32m   2658\u001b[0m             \u001b[1;32mexcept\u001b[0m \u001b[0mKeyError\u001b[0m\u001b[1;33m:\u001b[0m\u001b[1;33m\u001b[0m\u001b[1;33m\u001b[0m\u001b[0m\n",
      "\u001b[1;32mpandas/_libs/index.pyx\u001b[0m in \u001b[0;36mpandas._libs.index.IndexEngine.get_loc\u001b[1;34m()\u001b[0m\n",
      "\u001b[1;32mpandas/_libs/index.pyx\u001b[0m in \u001b[0;36mpandas._libs.index.IndexEngine.get_loc\u001b[1;34m()\u001b[0m\n",
      "\u001b[1;32mpandas/_libs/hashtable_class_helper.pxi\u001b[0m in \u001b[0;36mpandas._libs.hashtable.PyObjectHashTable.get_item\u001b[1;34m()\u001b[0m\n",
      "\u001b[1;32mpandas/_libs/hashtable_class_helper.pxi\u001b[0m in \u001b[0;36mpandas._libs.hashtable.PyObjectHashTable.get_item\u001b[1;34m()\u001b[0m\n",
      "\u001b[1;31mKeyError\u001b[0m: 'id'",
      "\nDuring handling of the above exception, another exception occurred:\n",
      "\u001b[1;31mKeyError\u001b[0m                                  Traceback (most recent call last)",
      "\u001b[1;32m<ipython-input-47-1d6338ad55c8>\u001b[0m in \u001b[0;36m<module>\u001b[1;34m\u001b[0m\n\u001b[1;32m----> 1\u001b[1;33m \u001b[0mtrain_labels\u001b[0m \u001b[1;33m=\u001b[0m \u001b[0mmercado\u001b[0m\u001b[1;33m.\u001b[0m\u001b[0mpop\u001b[0m\u001b[1;33m(\u001b[0m\u001b[1;34m'id'\u001b[0m\u001b[1;33m)\u001b[0m\u001b[1;33m\u001b[0m\u001b[1;33m\u001b[0m\u001b[0m\n\u001b[0m",
      "\u001b[1;32mC:\\ProgramData\\Anaconda3\\lib\\site-packages\\pandas\\core\\generic.py\u001b[0m in \u001b[0;36mpop\u001b[1;34m(self, item)\u001b[0m\n\u001b[0;32m    807\u001b[0m         \u001b[1;36m3\u001b[0m  \u001b[0mmonkey\u001b[0m        \u001b[0mNaN\u001b[0m\u001b[1;33m\u001b[0m\u001b[1;33m\u001b[0m\u001b[0m\n\u001b[0;32m    808\u001b[0m         \"\"\"\n\u001b[1;32m--> 809\u001b[1;33m         \u001b[0mresult\u001b[0m \u001b[1;33m=\u001b[0m \u001b[0mself\u001b[0m\u001b[1;33m[\u001b[0m\u001b[0mitem\u001b[0m\u001b[1;33m]\u001b[0m\u001b[1;33m\u001b[0m\u001b[1;33m\u001b[0m\u001b[0m\n\u001b[0m\u001b[0;32m    810\u001b[0m         \u001b[1;32mdel\u001b[0m \u001b[0mself\u001b[0m\u001b[1;33m[\u001b[0m\u001b[0mitem\u001b[0m\u001b[1;33m]\u001b[0m\u001b[1;33m\u001b[0m\u001b[1;33m\u001b[0m\u001b[0m\n\u001b[0;32m    811\u001b[0m         \u001b[1;32mtry\u001b[0m\u001b[1;33m:\u001b[0m\u001b[1;33m\u001b[0m\u001b[1;33m\u001b[0m\u001b[0m\n",
      "\u001b[1;32mC:\\ProgramData\\Anaconda3\\lib\\site-packages\\pandas\\core\\frame.py\u001b[0m in \u001b[0;36m__getitem__\u001b[1;34m(self, key)\u001b[0m\n\u001b[0;32m   2925\u001b[0m             \u001b[1;32mif\u001b[0m \u001b[0mself\u001b[0m\u001b[1;33m.\u001b[0m\u001b[0mcolumns\u001b[0m\u001b[1;33m.\u001b[0m\u001b[0mnlevels\u001b[0m \u001b[1;33m>\u001b[0m \u001b[1;36m1\u001b[0m\u001b[1;33m:\u001b[0m\u001b[1;33m\u001b[0m\u001b[1;33m\u001b[0m\u001b[0m\n\u001b[0;32m   2926\u001b[0m                 \u001b[1;32mreturn\u001b[0m \u001b[0mself\u001b[0m\u001b[1;33m.\u001b[0m\u001b[0m_getitem_multilevel\u001b[0m\u001b[1;33m(\u001b[0m\u001b[0mkey\u001b[0m\u001b[1;33m)\u001b[0m\u001b[1;33m\u001b[0m\u001b[1;33m\u001b[0m\u001b[0m\n\u001b[1;32m-> 2927\u001b[1;33m             \u001b[0mindexer\u001b[0m \u001b[1;33m=\u001b[0m \u001b[0mself\u001b[0m\u001b[1;33m.\u001b[0m\u001b[0mcolumns\u001b[0m\u001b[1;33m.\u001b[0m\u001b[0mget_loc\u001b[0m\u001b[1;33m(\u001b[0m\u001b[0mkey\u001b[0m\u001b[1;33m)\u001b[0m\u001b[1;33m\u001b[0m\u001b[1;33m\u001b[0m\u001b[0m\n\u001b[0m\u001b[0;32m   2928\u001b[0m             \u001b[1;32mif\u001b[0m \u001b[0mis_integer\u001b[0m\u001b[1;33m(\u001b[0m\u001b[0mindexer\u001b[0m\u001b[1;33m)\u001b[0m\u001b[1;33m:\u001b[0m\u001b[1;33m\u001b[0m\u001b[1;33m\u001b[0m\u001b[0m\n\u001b[0;32m   2929\u001b[0m                 \u001b[0mindexer\u001b[0m \u001b[1;33m=\u001b[0m \u001b[1;33m[\u001b[0m\u001b[0mindexer\u001b[0m\u001b[1;33m]\u001b[0m\u001b[1;33m\u001b[0m\u001b[1;33m\u001b[0m\u001b[0m\n",
      "\u001b[1;32mC:\\ProgramData\\Anaconda3\\lib\\site-packages\\pandas\\core\\indexes\\base.py\u001b[0m in \u001b[0;36mget_loc\u001b[1;34m(self, key, method, tolerance)\u001b[0m\n\u001b[0;32m   2657\u001b[0m                 \u001b[1;32mreturn\u001b[0m \u001b[0mself\u001b[0m\u001b[1;33m.\u001b[0m\u001b[0m_engine\u001b[0m\u001b[1;33m.\u001b[0m\u001b[0mget_loc\u001b[0m\u001b[1;33m(\u001b[0m\u001b[0mkey\u001b[0m\u001b[1;33m)\u001b[0m\u001b[1;33m\u001b[0m\u001b[1;33m\u001b[0m\u001b[0m\n\u001b[0;32m   2658\u001b[0m             \u001b[1;32mexcept\u001b[0m \u001b[0mKeyError\u001b[0m\u001b[1;33m:\u001b[0m\u001b[1;33m\u001b[0m\u001b[1;33m\u001b[0m\u001b[0m\n\u001b[1;32m-> 2659\u001b[1;33m                 \u001b[1;32mreturn\u001b[0m \u001b[0mself\u001b[0m\u001b[1;33m.\u001b[0m\u001b[0m_engine\u001b[0m\u001b[1;33m.\u001b[0m\u001b[0mget_loc\u001b[0m\u001b[1;33m(\u001b[0m\u001b[0mself\u001b[0m\u001b[1;33m.\u001b[0m\u001b[0m_maybe_cast_indexer\u001b[0m\u001b[1;33m(\u001b[0m\u001b[0mkey\u001b[0m\u001b[1;33m)\u001b[0m\u001b[1;33m)\u001b[0m\u001b[1;33m\u001b[0m\u001b[1;33m\u001b[0m\u001b[0m\n\u001b[0m\u001b[0;32m   2660\u001b[0m         \u001b[0mindexer\u001b[0m \u001b[1;33m=\u001b[0m \u001b[0mself\u001b[0m\u001b[1;33m.\u001b[0m\u001b[0mget_indexer\u001b[0m\u001b[1;33m(\u001b[0m\u001b[1;33m[\u001b[0m\u001b[0mkey\u001b[0m\u001b[1;33m]\u001b[0m\u001b[1;33m,\u001b[0m \u001b[0mmethod\u001b[0m\u001b[1;33m=\u001b[0m\u001b[0mmethod\u001b[0m\u001b[1;33m,\u001b[0m \u001b[0mtolerance\u001b[0m\u001b[1;33m=\u001b[0m\u001b[0mtolerance\u001b[0m\u001b[1;33m)\u001b[0m\u001b[1;33m\u001b[0m\u001b[1;33m\u001b[0m\u001b[0m\n\u001b[0;32m   2661\u001b[0m         \u001b[1;32mif\u001b[0m \u001b[0mindexer\u001b[0m\u001b[1;33m.\u001b[0m\u001b[0mndim\u001b[0m \u001b[1;33m>\u001b[0m \u001b[1;36m1\u001b[0m \u001b[1;32mor\u001b[0m \u001b[0mindexer\u001b[0m\u001b[1;33m.\u001b[0m\u001b[0msize\u001b[0m \u001b[1;33m>\u001b[0m \u001b[1;36m1\u001b[0m\u001b[1;33m:\u001b[0m\u001b[1;33m\u001b[0m\u001b[1;33m\u001b[0m\u001b[0m\n",
      "\u001b[1;32mpandas/_libs/index.pyx\u001b[0m in \u001b[0;36mpandas._libs.index.IndexEngine.get_loc\u001b[1;34m()\u001b[0m\n",
      "\u001b[1;32mpandas/_libs/index.pyx\u001b[0m in \u001b[0;36mpandas._libs.index.IndexEngine.get_loc\u001b[1;34m()\u001b[0m\n",
      "\u001b[1;32mpandas/_libs/hashtable_class_helper.pxi\u001b[0m in \u001b[0;36mpandas._libs.hashtable.PyObjectHashTable.get_item\u001b[1;34m()\u001b[0m\n",
      "\u001b[1;32mpandas/_libs/hashtable_class_helper.pxi\u001b[0m in \u001b[0;36mpandas._libs.hashtable.PyObjectHashTable.get_item\u001b[1;34m()\u001b[0m\n",
      "\u001b[1;31mKeyError\u001b[0m: 'id'"
     ]
    }
   ],
   "source": [
    "train_labels = mercado.pop('id')"
   ]
  },
  {
   "cell_type": "code",
   "execution_count": 48,
   "metadata": {},
   "outputs": [
    {
     "data": {
      "text/plain": [
       "idade_empresa_anos                                      0\n",
       "fl_me                                                   0\n",
       "fl_sa                                                   0\n",
       "fl_epp                                                  0\n",
       "fl_mei                                                  0\n",
       "fl_ltda                                                 0\n",
       "fl_optante_simples                                      0\n",
       "qt_art                                                  0\n",
       "fl_optante_simei                                        0\n",
       "fl_simples_irregular                                    0\n",
       "qt_socios                                               0\n",
       "qt_funcionarios                                         0\n",
       "qt_filiais                                              0\n",
       "NIVEL_ATIVIDADE_OHE_ALTA                                0\n",
       "NIVEL_ATIVIDADE_OHE_BAIXA                               0\n",
       "NIVEL_ATIVIDADE_OHE_MEDIA                               0\n",
       "NIVEL_ATIVIDADE_OHE_MUITO_BAIXA                         0\n",
       "setor_OHE_AGROPECUARIA                                  0\n",
       "setor_OHE_COMERCIO                                      0\n",
       "setor_OHE_CONSTRUÇÃO_CIVIL                              0\n",
       "setor_OHE_INDUSTRIA                                     0\n",
       "setor_OHE_SERVIÇO                                       0\n",
       "NATUREZA_JURIDICA_OHE_ADMINISTRACAO_PUBLICA             0\n",
       "NATUREZA_JURIDICA_OHE_CARGO_POLITICO                    0\n",
       "NATUREZA_JURIDICA_OHE_ENTIDADES_EMPRESARIAIS            0\n",
       "NATUREZA_JURIDICA_OHE_ENTIDADES_SEM_FINS_LUCRATIVOS     0\n",
       "NATUREZA_JURIDICA_OHE_INSTITUICOES_EXTRATERRITORIAIS    0\n",
       "NATUREZA_JURIDICA_OHE_OUTROS                            0\n",
       "NATUREZA_JURIDICA_OHE_PESSOAS_FISICAS                   0\n",
       "UF_OHE_AC                                               0\n",
       "                                                       ..\n",
       "MICROREGIAO_OHE_MEDIO_MEARIM                            0\n",
       "MICROREGIAO_OHE_MEDIO_OESTE                             0\n",
       "MICROREGIAO_OHE_MEDIO_PARNAIBA_PIAUIENSE                0\n",
       "MICROREGIAO_OHE_MOSSORO                                 0\n",
       "MICROREGIAO_OHE_NATAL                                   0\n",
       "MICROREGIAO_OHE_OUTRA                                   0\n",
       "MICROREGIAO_OHE_PARINTINS                               0\n",
       "MICROREGIAO_OHE_PAU_DOS_FERROS                          0\n",
       "MICROREGIAO_OHE_PICOS                                   0\n",
       "MICROREGIAO_OHE_PINDARE                                 0\n",
       "MICROREGIAO_OHE_PIO_IX                                  0\n",
       "MICROREGIAO_OHE_PORTO_FRANCO                            0\n",
       "MICROREGIAO_OHE_PRESIDENTE_DUTRA                        0\n",
       "MICROREGIAO_OHE_PURUS                                   0\n",
       "MICROREGIAO_OHE_RIO_BRANCO                              0\n",
       "MICROREGIAO_OHE_RIO_NEGRO                               0\n",
       "MICROREGIAO_OHE_RIO_PRETO_DA_EVA                        0\n",
       "MICROREGIAO_OHE_ROSARIO                                 0\n",
       "MICROREGIAO_OHE_SAO_RAIMUNDO_NONATO                     0\n",
       "MICROREGIAO_OHE_SENA_MADUREIRA                          0\n",
       "MICROREGIAO_OHE_SERIDO_OCIDENTAL                        0\n",
       "MICROREGIAO_OHE_SERIDO_ORIENTAL                         0\n",
       "MICROREGIAO_OHE_SERRA_DE_SANTANA                        0\n",
       "MICROREGIAO_OHE_SERRA_DE_SAO_MIGUEL                     0\n",
       "MICROREGIAO_OHE_TARAUACA                                0\n",
       "MICROREGIAO_OHE_TEFE                                    0\n",
       "MICROREGIAO_OHE_TERESINA                                0\n",
       "MICROREGIAO_OHE_UMARIZAL                                0\n",
       "MICROREGIAO_OHE_VALE_DO_ACU                             0\n",
       "MICROREGIAO_OHE_VALENCA_DO_PIAUI                        0\n",
       "Length: 129, dtype: int64"
      ]
     },
     "execution_count": 48,
     "metadata": {},
     "output_type": "execute_result"
    }
   ],
   "source": [
    "mercado.isna().sum()"
   ]
  },
  {
   "cell_type": "markdown",
   "metadata": {},
   "source": [
    "## K MEANS"
   ]
  },
  {
   "cell_type": "code",
   "execution_count": 57,
   "metadata": {},
   "outputs": [],
   "source": [
    "kmeans = KMeans(n_clusters=4)\n",
    "kmeans.fit(mercado)\n",
    "y_kmeans = kmeans.predict(mercado)"
   ]
  },
  {
   "cell_type": "code",
   "execution_count": 59,
   "metadata": {},
   "outputs": [
    {
     "data": {
      "image/png": "[encoded data removed]",
      "text/plain": [
       "<Figure size 864x576 with 1 Axes>"
      ]
     },
     "metadata": {},
     "output_type": "display_data"
    }
   ],
   "source": [
    "\n",
    "centers = kmeans.cluster_centers_\n",
    "plt.scatter(centers[:, 0], centers[:, 1], c='black', s=200, alpha=0.5);"
   ]
  },
  {
   "cell_type": "code",
   "execution_count": null,
   "metadata": {},
   "outputs": [],
   "source": []
  }
 ],
 "metadata": {
  "kernelspec": {
   "display_name": "Python 3",
   "language": "python",
   "name": "python3"
  },
  "language_info": {
   "codemirror_mode": {
    "name": "ipython",
    "version": 3
   },
   "file_extension": ".py",
   "mimetype": "text/x-python",
   "name": "python",
   "nbconvert_exporter": "python",
   "pygments_lexer": "ipython3",
   "version": "3.7.3"
  }
 },
 "nbformat": 4,
 "nbformat_minor": 4
}
